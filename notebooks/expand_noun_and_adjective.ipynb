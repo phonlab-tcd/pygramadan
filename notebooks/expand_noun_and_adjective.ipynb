{
  "nbformat": 4,
  "nbformat_minor": 2,
  "metadata": {
    "colab": {
      "name": "expand-noun-and-adjective.ipynb",
      "provenance": [],
      "authorship_tag": "ABX9TyM69K/hVhriSvs0rz2tTzSg",
      "include_colab_link": true
    },
    "kernelspec": {
      "name": "python3",
      "display_name": "Python 3"
    },
    "language_info": {
      "name": "python"
    }
  },
  "cells": [
    {
      "cell_type": "markdown",
      "source": [
        "<a href=\"https://github.com/phonlab-tcd/pygramadan/blob/main/notebooks/expand_noun_and_adjective.ipynb\" target=\"_parent\"><img src=\"https://colab.research.google.com/assets/colab-badge.svg\" alt=\"Open In Colab\"/></a>"
      ],
      "metadata": {
        "id": "view-in-github",
        "colab_type": "text"
      }
    },
    {
      "cell_type": "markdown",
      "source": [
        "First, clone a copy of BuNaMo:"
      ],
      "metadata": {
        "id": "-7-IqAWrm0wG"
      }
    },
    {
      "cell_type": "code",
      "execution_count": null,
      "source": [
        "%%capture\r\n",
        "!git clone https://github.com/michmech/BuNaMo"
      ],
      "outputs": [],
      "metadata": {
        "id": "zk3tct_LmvEw"
      }
    },
    {
      "cell_type": "markdown",
      "source": [
        "We can use pip to install straight from github:"
      ],
      "metadata": {
        "id": "qY40e_MNnjXM"
      }
    },
    {
      "cell_type": "code",
      "execution_count": null,
      "source": [
        "%%capture\r\n",
        "!pip install git+https://github.com/phonlab-tcd/pygramadan"
      ],
      "outputs": [],
      "metadata": {
        "id": "7aan1HxRm9Rr"
      }
    },
    {
      "cell_type": "markdown",
      "source": [
        "Some imports:"
      ],
      "metadata": {
        "id": "KEPG2EtMnoDD"
      }
    },
    {
      "cell_type": "code",
      "execution_count": 3,
      "source": [
        "from pygramadan.noun import Noun\r\n",
        "from pygramadan.adjective import Adjective\r\n",
        "from pygramadan.noun_phrase import NP"
      ],
      "outputs": [],
      "metadata": {
        "id": "xDWrL7jGnW3O"
      }
    },
    {
      "cell_type": "code",
      "execution_count": 5,
      "source": [
        "#@title Enter noun and adjective\r\n",
        "\r\n",
        "noun = 'fear' #@param {type:\"string\"}\r\n",
        "adj = 'ciúin' #@param {type:\"string\"}"
      ],
      "outputs": [],
      "metadata": {
        "id": "g2jMC9s7n0j7"
      }
    },
    {
      "cell_type": "code",
      "execution_count": 7,
      "source": [
        "from pathlib import Path\n",
        "noun_dir = Path('/content/BuNaMo/noun')\n",
        "adj_dir = Path('/content/BuNaMo/adjective')\n",
        "noun_pat = noun + '_' + '*.xml'\n",
        "adj_pat = adj + '_' + '*.xml'\n",
        "for noun_file in noun_dir.glob(noun_pat):\n",
        "    for adj_file in adj_dir.glob(adj_pat):\n",
        "        n = Noun(source=noun_file)\n",
        "        a = Adjective(source=adj_file)\n",
        "        np = NP(noun=n, adjective=a)\n",
        "        print(f'{n.get_identifier()}\\t{a.get_identifier()}')\n",
        "        print(np.__str__())\n"
      ],
      "outputs": [
        {
          "output_type": "stream",
          "name": "stdout",
          "text": [
            "fear_masc_1\tciúin_adj1\n",
            "sgNom: [fear ciúin] \n",
            "sgGen: [fir chiúin] \n",
            "plNom: [fir chiúine] \n",
            "plGen: [fear ciúin] \n",
            "sgNomArt: [fear ciúin] \n",
            "sgGenArt: [fir chiúin] \n",
            "plNomArt: [fir chiúine] \n",
            "plGenArt: [fear ciúin] \n",
            "\n",
            "sgDat: [fear ciúin] \n",
            "sgDatArtN: [fear chiúin] \n",
            "sgDatArtS: [fear ciúin] \n",
            "plDat: [fir chiúine] \n",
            "plDatArt: [fir chiúine] \n",
            "\n"
          ]
        }
      ],
      "metadata": {
        "colab": {
          "base_uri": "https://localhost:8080/"
        },
        "id": "qITdW33lnEkH",
        "outputId": "fa47bac2-76f1-4f3d-9566-bd51cadc341f"
      }
    }
  ]
}